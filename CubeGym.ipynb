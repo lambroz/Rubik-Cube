{
  "nbformat": 4,
  "nbformat_minor": 0,
  "metadata": {
    "colab": {
      "provenance": [],
      "authorship_tag": "ABX9TyO99z/coPKAuwBvanS4pMjS",
      "include_colab_link": true
    },
    "kernelspec": {
      "name": "python3",
      "display_name": "Python 3"
    },
    "language_info": {
      "name": "python"
    },
    "gpuClass": "standard"
  },
  "cells": [
    {
      "cell_type": "markdown",
      "metadata": {
        "id": "view-in-github",
        "colab_type": "text"
      },
      "source": [
        "<a href=\"https://colab.research.google.com/github/lambroz/Rubik-Cube/blob/main/CubeGym.ipynb\" target=\"_parent\"><img src=\"https://colab.research.google.com/assets/colab-badge.svg\" alt=\"Open In Colab\"/></a>"
      ]
    },
    {
      "cell_type": "markdown",
      "source": [
        "# Load libraries"
      ],
      "metadata": {
        "id": "dpDpSB2j-UQd"
      }
    },
    {
      "cell_type": "code",
      "source": [
        "!sudo apt-get update\n",
        "!pip install rubik-cube\n",
        "!pip install gym==0.21.0\n",
        "!pip install stable_baselines3\n",
        "!pip install sb3-contrib"
      ],
      "metadata": {
        "colab": {
          "base_uri": "https://localhost:8080/"
        },
        "id": "J5t9ntkDpPvB",
        "outputId": "5b22e3f6-5e93-4224-8c8c-dc4e410794c0"
      },
      "execution_count": 1,
      "outputs": [
        {
          "output_type": "stream",
          "name": "stdout",
          "text": [
            "\r0% [Working]\r            \rGet:1 http://security.ubuntu.com/ubuntu bionic-security InRelease [88.7 kB]\n",
            "\r0% [Connecting to archive.ubuntu.com (185.125.190.36)] [1 InRelease 14.2 kB/88.\r                                                                               \rIgn:2 https://developer.download.nvidia.com/compute/machine-learning/repos/ubuntu1804/x86_64  InRelease\n",
            "\r0% [Connecting to archive.ubuntu.com (185.125.190.36)] [1 InRelease 25.8 kB/88.\r                                                                               \rGet:3 https://cloud.r-project.org/bin/linux/ubuntu bionic-cran40/ InRelease [3,626 B]\n",
            "\r0% [Connecting to archive.ubuntu.com (185.125.190.36)] [1 InRelease 28.7 kB/88.\r0% [Connecting to archive.ubuntu.com (185.125.190.36)] [1 InRelease 40.2 kB/88.\r                                                                               \rHit:4 https://developer.download.nvidia.com/compute/cuda/repos/ubuntu1804/x86_64  InRelease\n",
            "\r0% [Connecting to archive.ubuntu.com (185.125.190.36)] [1 InRelease 40.2 kB/88.\r0% [3 InRelease gpgv 3,626 B] [Connecting to archive.ubuntu.com (185.125.190.36\r                                                                               \rHit:5 https://developer.download.nvidia.com/compute/machine-learning/repos/ubuntu1804/x86_64  Release\n",
            "Hit:6 http://ppa.launchpad.net/c2d4u.team/c2d4u4.0+/ubuntu bionic InRelease\n",
            "Hit:7 http://archive.ubuntu.com/ubuntu bionic InRelease\n",
            "Get:8 http://archive.ubuntu.com/ubuntu bionic-updates InRelease [88.7 kB]\n",
            "Hit:9 http://ppa.launchpad.net/cran/libgit2/ubuntu bionic InRelease\n",
            "Hit:11 http://ppa.launchpad.net/deadsnakes/ppa/ubuntu bionic InRelease\n",
            "Get:12 http://archive.ubuntu.com/ubuntu bionic-backports InRelease [83.3 kB]\n",
            "Get:13 http://ppa.launchpad.net/graphics-drivers/ppa/ubuntu bionic InRelease [21.3 kB]\n",
            "Get:14 http://security.ubuntu.com/ubuntu bionic-security/main amd64 Packages [3,127 kB]\n",
            "Get:15 http://security.ubuntu.com/ubuntu bionic-security/universe amd64 Packages [1,573 kB]\n",
            "Get:16 http://security.ubuntu.com/ubuntu bionic-security/restricted amd64 Packages [1,349 kB]\n",
            "Get:17 http://archive.ubuntu.com/ubuntu bionic-updates/restricted amd64 Packages [1,389 kB]\n",
            "Get:18 http://ppa.launchpad.net/graphics-drivers/ppa/ubuntu bionic/main amd64 Packages [43.2 kB]\n",
            "Get:19 http://archive.ubuntu.com/ubuntu bionic-updates/universe amd64 Packages [2,348 kB]\n",
            "Get:20 http://archive.ubuntu.com/ubuntu bionic-updates/multiverse amd64 Packages [30.9 kB]\n",
            "Get:21 http://archive.ubuntu.com/ubuntu bionic-updates/main amd64 Packages [3,549 kB]\n",
            "Fetched 13.7 MB in 3s (4,138 kB/s)\n",
            "Reading package lists... Done\n",
            "Looking in indexes: https://pypi.org/simple, https://us-python.pkg.dev/colab-wheels/public/simple/\n",
            "Collecting rubik-cube\n",
            "  Downloading rubik_cube-0.0.1-py3-none-any.whl (14 kB)\n",
            "Installing collected packages: rubik-cube\n",
            "Successfully installed rubik-cube-0.0.1\n",
            "Looking in indexes: https://pypi.org/simple, https://us-python.pkg.dev/colab-wheels/public/simple/\n",
            "Collecting gym==0.21.0\n",
            "  Downloading gym-0.21.0.tar.gz (1.5 MB)\n",
            "\u001b[2K     \u001b[90m━━━━━━━━━━━━━━━━━━━━━━━━━━━━━━━━━━━━━━━━\u001b[0m \u001b[32m1.5/1.5 MB\u001b[0m \u001b[31m20.6 MB/s\u001b[0m eta \u001b[36m0:00:00\u001b[0m\n",
            "\u001b[?25h  Preparing metadata (setup.py) ... \u001b[?25l\u001b[?25hdone\n",
            "Requirement already satisfied: numpy>=1.18.0 in /usr/local/lib/python3.8/dist-packages (from gym==0.21.0) (1.21.6)\n",
            "Requirement already satisfied: cloudpickle>=1.2.0 in /usr/local/lib/python3.8/dist-packages (from gym==0.21.0) (1.5.0)\n",
            "Building wheels for collected packages: gym\n",
            "  Building wheel for gym (setup.py) ... \u001b[?25l\u001b[?25hdone\n",
            "  Created wheel for gym: filename=gym-0.21.0-py3-none-any.whl size=1616819 sha256=ffb17cf481d196bd36b9cba593389622042e1abc4a502bee8fff575e079bb6a1\n",
            "  Stored in directory: /root/.cache/pip/wheels/27/6d/b3/a3a6e10704795c9b9000f1ab2dc480dfe7bed42f5972806e73\n",
            "Successfully built gym\n",
            "Installing collected packages: gym\n",
            "  Attempting uninstall: gym\n",
            "    Found existing installation: gym 0.25.2\n",
            "    Uninstalling gym-0.25.2:\n",
            "      Successfully uninstalled gym-0.25.2\n",
            "Successfully installed gym-0.21.0\n",
            "Looking in indexes: https://pypi.org/simple, https://us-python.pkg.dev/colab-wheels/public/simple/\n",
            "Collecting stable_baselines3\n",
            "  Downloading stable_baselines3-1.6.2-py3-none-any.whl (170 kB)\n",
            "\u001b[2K     \u001b[90m━━━━━━━━━━━━━━━━━━━━━━━━━━━━━━━━━━━━━━━\u001b[0m \u001b[32m170.0/170.0 KB\u001b[0m \u001b[31m5.3 MB/s\u001b[0m eta \u001b[36m0:00:00\u001b[0m\n",
            "\u001b[?25hRequirement already satisfied: cloudpickle in /usr/local/lib/python3.8/dist-packages (from stable_baselines3) (1.5.0)\n",
            "Requirement already satisfied: matplotlib in /usr/local/lib/python3.8/dist-packages (from stable_baselines3) (3.2.2)\n",
            "Requirement already satisfied: pandas in /usr/local/lib/python3.8/dist-packages (from stable_baselines3) (1.3.5)\n",
            "Requirement already satisfied: numpy in /usr/local/lib/python3.8/dist-packages (from stable_baselines3) (1.21.6)\n",
            "Requirement already satisfied: gym==0.21 in /usr/local/lib/python3.8/dist-packages (from stable_baselines3) (0.21.0)\n",
            "Requirement already satisfied: torch>=1.11 in /usr/local/lib/python3.8/dist-packages (from stable_baselines3) (1.13.0+cu116)\n",
            "Collecting importlib-metadata~=4.13\n",
            "  Downloading importlib_metadata-4.13.0-py3-none-any.whl (23 kB)\n",
            "Requirement already satisfied: zipp>=0.5 in /usr/local/lib/python3.8/dist-packages (from importlib-metadata~=4.13->stable_baselines3) (3.11.0)\n",
            "Requirement already satisfied: typing-extensions in /usr/local/lib/python3.8/dist-packages (from torch>=1.11->stable_baselines3) (4.4.0)\n",
            "Requirement already satisfied: python-dateutil>=2.1 in /usr/local/lib/python3.8/dist-packages (from matplotlib->stable_baselines3) (2.8.2)\n",
            "Requirement already satisfied: cycler>=0.10 in /usr/local/lib/python3.8/dist-packages (from matplotlib->stable_baselines3) (0.11.0)\n",
            "Requirement already satisfied: kiwisolver>=1.0.1 in /usr/local/lib/python3.8/dist-packages (from matplotlib->stable_baselines3) (1.4.4)\n",
            "Requirement already satisfied: pyparsing!=2.0.4,!=2.1.2,!=2.1.6,>=2.0.1 in /usr/local/lib/python3.8/dist-packages (from matplotlib->stable_baselines3) (3.0.9)\n",
            "Requirement already satisfied: pytz>=2017.3 in /usr/local/lib/python3.8/dist-packages (from pandas->stable_baselines3) (2022.7)\n",
            "Requirement already satisfied: six>=1.5 in /usr/local/lib/python3.8/dist-packages (from python-dateutil>=2.1->matplotlib->stable_baselines3) (1.15.0)\n",
            "Installing collected packages: importlib-metadata, stable_baselines3\n",
            "  Attempting uninstall: importlib-metadata\n",
            "    Found existing installation: importlib-metadata 5.2.0\n",
            "    Uninstalling importlib-metadata-5.2.0:\n",
            "      Successfully uninstalled importlib-metadata-5.2.0\n",
            "Successfully installed importlib-metadata-4.13.0 stable_baselines3-1.6.2\n",
            "Looking in indexes: https://pypi.org/simple, https://us-python.pkg.dev/colab-wheels/public/simple/\n",
            "Collecting sb3-contrib\n",
            "  Downloading sb3_contrib-1.6.2-py3-none-any.whl (79 kB)\n",
            "\u001b[2K     \u001b[90m━━━━━━━━━━━━━━━━━━━━━━━━━━━━━━━━━━━━━━━━\u001b[0m \u001b[32m79.4/79.4 KB\u001b[0m \u001b[31m3.8 MB/s\u001b[0m eta \u001b[36m0:00:00\u001b[0m\n",
            "\u001b[?25hRequirement already satisfied: stable-baselines3>=1.6.2 in /usr/local/lib/python3.8/dist-packages (from sb3-contrib) (1.6.2)\n",
            "Requirement already satisfied: numpy in /usr/local/lib/python3.8/dist-packages (from stable-baselines3>=1.6.2->sb3-contrib) (1.21.6)\n",
            "Requirement already satisfied: importlib-metadata~=4.13 in /usr/local/lib/python3.8/dist-packages (from stable-baselines3>=1.6.2->sb3-contrib) (4.13.0)\n",
            "Requirement already satisfied: cloudpickle in /usr/local/lib/python3.8/dist-packages (from stable-baselines3>=1.6.2->sb3-contrib) (1.5.0)\n",
            "Requirement already satisfied: matplotlib in /usr/local/lib/python3.8/dist-packages (from stable-baselines3>=1.6.2->sb3-contrib) (3.2.2)\n",
            "Requirement already satisfied: pandas in /usr/local/lib/python3.8/dist-packages (from stable-baselines3>=1.6.2->sb3-contrib) (1.3.5)\n",
            "Requirement already satisfied: gym==0.21 in /usr/local/lib/python3.8/dist-packages (from stable-baselines3>=1.6.2->sb3-contrib) (0.21.0)\n",
            "Requirement already satisfied: torch>=1.11 in /usr/local/lib/python3.8/dist-packages (from stable-baselines3>=1.6.2->sb3-contrib) (1.13.0+cu116)\n",
            "Requirement already satisfied: zipp>=0.5 in /usr/local/lib/python3.8/dist-packages (from importlib-metadata~=4.13->stable-baselines3>=1.6.2->sb3-contrib) (3.11.0)\n",
            "Requirement already satisfied: typing-extensions in /usr/local/lib/python3.8/dist-packages (from torch>=1.11->stable-baselines3>=1.6.2->sb3-contrib) (4.4.0)\n",
            "Requirement already satisfied: python-dateutil>=2.1 in /usr/local/lib/python3.8/dist-packages (from matplotlib->stable-baselines3>=1.6.2->sb3-contrib) (2.8.2)\n",
            "Requirement already satisfied: cycler>=0.10 in /usr/local/lib/python3.8/dist-packages (from matplotlib->stable-baselines3>=1.6.2->sb3-contrib) (0.11.0)\n",
            "Requirement already satisfied: kiwisolver>=1.0.1 in /usr/local/lib/python3.8/dist-packages (from matplotlib->stable-baselines3>=1.6.2->sb3-contrib) (1.4.4)\n",
            "Requirement already satisfied: pyparsing!=2.0.4,!=2.1.2,!=2.1.6,>=2.0.1 in /usr/local/lib/python3.8/dist-packages (from matplotlib->stable-baselines3>=1.6.2->sb3-contrib) (3.0.9)\n",
            "Requirement already satisfied: pytz>=2017.3 in /usr/local/lib/python3.8/dist-packages (from pandas->stable-baselines3>=1.6.2->sb3-contrib) (2022.7)\n",
            "Requirement already satisfied: six>=1.5 in /usr/local/lib/python3.8/dist-packages (from python-dateutil>=2.1->matplotlib->stable-baselines3>=1.6.2->sb3-contrib) (1.15.0)\n",
            "Installing collected packages: sb3-contrib\n",
            "Successfully installed sb3-contrib-1.6.2\n"
          ]
        }
      ]
    },
    {
      "cell_type": "code",
      "source": [
        "import gym\n",
        "import math\n",
        "import time\n",
        "import numpy as np\n",
        "from random import choices\n",
        "from rubik.cube import Cube\n",
        "from google.colab import drive\n",
        "from stable_baselines3 import PPO, DQN\n",
        "from sb3_contrib import QRDQN\n",
        "from stable_baselines3.common.env_checker import check_env"
      ],
      "metadata": {
        "id": "BDX2UktmpXWn"
      },
      "execution_count": 2,
      "outputs": []
    },
    {
      "cell_type": "code",
      "source": [
        "drive.mount('/content/drive')"
      ],
      "metadata": {
        "colab": {
          "base_uri": "https://localhost:8080/"
        },
        "id": "7KraKZCCc-LA",
        "outputId": "b051507f-5721-471e-fefc-6b0021cc2370"
      },
      "execution_count": 3,
      "outputs": [
        {
          "output_type": "stream",
          "name": "stdout",
          "text": [
            "Mounted at /content/drive\n"
          ]
        }
      ]
    },
    {
      "cell_type": "markdown",
      "source": [
        "# Set up environment"
      ],
      "metadata": {
        "id": "UPH57Eeh-f9c"
      }
    },
    {
      "cell_type": "code",
      "source": [
        "class VCube(Cube):\n",
        "    \n",
        "    COLORS = ['B', 'G', 'O', 'R', 'W', 'Y']\n",
        "    MOVES = ['F', 'B', 'R', 'L', 'D', 'U'] \n",
        "\n",
        "    def __init__(self, cube_str='OOOOOOOOOYYYWWWGGGBBBYYYWWWGGGBBBYYYWWWGGGBBBRRRRRRRRR', random_shuffles=0):\n",
        "        super().__init__(cube_str)\n",
        "        if random_shuffles:\n",
        "          self.shuffle(random_shuffles) \n",
        "        \n",
        "    def cube_key(self):\n",
        "        \"\"\"\n",
        "        Creates a signature key that identifies the cube.\n",
        "        \"\"\"\n",
        "        # Starts from the flat_str representation.\n",
        "        s = self.flat_str()\n",
        "        # Removes the letters in the center that do not influence the cube state.\n",
        "        s_no_centers = s[:4] + s[5:22] + s[23:25] + s[26:28] + s[29:31] + s[32:49] + s[50:]\n",
        "        # One-hot encoding of the colours.\n",
        "        key = np.array([1 if self.COLORS[i] == l else 0 for l in s_no_centers for i in range(6)], dtype=np.int32)\n",
        "        return key\n",
        "\n",
        "    @classmethod\n",
        "    def decode_cube_key(cls, key):\n",
        "      \"\"\"\n",
        "      Decodes signature key and returns cube string.\n",
        "      \"\"\"\n",
        "      cube_str = ''\n",
        "      for k, b in enumerate(key):\n",
        "        if b == 1:\n",
        "          cube_str += cls.COLORS[k % 6]\n",
        "        # Add center pieces\n",
        "        if len(cube_str) == 4:\n",
        "          cube_str += 'O'\n",
        "        elif len(cube_str) == 22:\n",
        "          cube_str += 'Y'\n",
        "        elif len(cube_str) == 25:\n",
        "          cube_str += 'W'\n",
        "        elif len(cube_str) == 28:\n",
        "          cube_str += 'G'\n",
        "        elif len(cube_str) == 31:\n",
        "          cube_str += 'B'\n",
        "        elif len(cube_str) == 49:\n",
        "          cube_str += 'R'\n",
        "      return cube_str \n",
        "\n",
        "    def shuffle(self, k=20):\n",
        "        \"\"\"\n",
        "        Shuffle the cube with n moves.\n",
        "        \"\"\"\n",
        "        seq = ' '.join(choices(self.MOVES, k=k))\n",
        "        self.sequence(seq)\n",
        "        \n",
        "    def evaluate_cube(self):\n",
        "        \"\"\"\n",
        "        Count pieces in the correct positions.\n",
        "        \"\"\"\n",
        "        solved_cube = 'OOOOOOOOOYYYWWWGGGBBBYYYWWWGGGBBBYYYWWWGGGBBBRRRRRRRRR'\n",
        "        s = self.flat_str()\n",
        "        n_matching_pieces = sum([1 if s[i] == solved_cube[i] else 0 for i in range(54)])\n",
        "        return n_matching_pieces"
      ],
      "metadata": {
        "id": "EVoRQCrypoUj"
      },
      "execution_count": 4,
      "outputs": []
    },
    {
      "cell_type": "code",
      "source": [
        "solved_cube = VCube('O' * 9 + ('Y' * 3 + 'W' * 3 + 'G' * 3 + 'B' * 3) * 3 + 'R' * 9)\n",
        "#solved_cube.shuffle()\n",
        "print(solved_cube)"
      ],
      "metadata": {
        "colab": {
          "base_uri": "https://localhost:8080/"
        },
        "id": "aDKTVo1xprWu",
        "outputId": "aecefb04-9612-4fa7-ab61-400d975dd658"
      },
      "execution_count": 5,
      "outputs": [
        {
          "output_type": "stream",
          "name": "stdout",
          "text": [
            "    OOO\n",
            "    OOO\n",
            "    OOO\n",
            "YYY WWW GGG BBB\n",
            "YYY WWW GGG BBB\n",
            "YYY WWW GGG BBB\n",
            "    RRR\n",
            "    RRR\n",
            "    RRR\n"
          ]
        }
      ]
    },
    {
      "cell_type": "code",
      "source": [
        "print(solved_cube.flat_str())\n",
        "\n",
        "key = solved_cube.cube_key()\n",
        "print(len(key))\n",
        "\n",
        "decoded_key = VCube.decode_cube_key(key)\n",
        "print(decoded_key)"
      ],
      "metadata": {
        "colab": {
          "base_uri": "https://localhost:8080/"
        },
        "id": "veRsK_nVpu3h",
        "outputId": "0ae84769-cb2e-4da0-b3d3-17a79b74f198"
      },
      "execution_count": 6,
      "outputs": [
        {
          "output_type": "stream",
          "name": "stdout",
          "text": [
            "OOOOOOOOOYYYWWWGGGBBBYYYWWWGGGBBBYYYWWWGGGBBBRRRRRRRRR\n",
            "288\n",
            "OOOOOOOOOYYYWWWGGGBBBYYYWWWGGGBBBYYYWWWGGGBBBRRRRRRRRR\n"
          ]
        }
      ]
    },
    {
      "cell_type": "code",
      "source": [
        "class RubikCubeEnv(gym.Env):\n",
        "    \"\"\"Custom Environment that follows gym interface\"\"\"\n",
        "    metadata = {\"render.modes\": [\"human\"]}\n",
        "\n",
        "    def __init__(self):\n",
        "        super(RubikCubeEnv, self).__init__()\n",
        "        self.action_space = gym.spaces.Discrete(len(VCube.MOVES))\n",
        "        self.observation_space = gym.spaces.Box(low=0, high=1, shape=(288,), dtype=np.int32)\n",
        "        self.cube = None\n",
        "        self.n_moves = None\n",
        "\n",
        "    def step(self, action):\n",
        "      # Play\n",
        "      move = self.cube.MOVES[action]\n",
        "      self.cube.sequence(move)\n",
        "      self.n_moves += 1\n",
        "      # Observe cube and compute rewards\n",
        "      observation = self.cube.cube_key() \n",
        "      reward = math.pow(self.cube.evaluate_cube(), 2) / 1e7\n",
        "      if self.cube.is_solved():\n",
        "          reward += 1\n",
        "          done = True\n",
        "      elif self.n_moves == 1000:\n",
        "          done = True\n",
        "      else:\n",
        "          done = False\n",
        "      return observation, reward, done, {}\n",
        "\n",
        "    def reset(self):\n",
        "        # Reset counter\n",
        "        self.n_moves = 0\n",
        "        # Reshuffle cube and observe it\n",
        "        random_shuffles = round(np.random.normal(loc=5, scale=7, size=None)) + 2\n",
        "        self.cube = VCube(random_shuffles=random_shuffles)\n",
        "        observation = self.cube.cube_key()\n",
        "        return observation  \n",
        "\n",
        "    def render(self, mode=\"human\"):\n",
        "        print(self.cube)\n",
        "\n",
        "    def close(self):\n",
        "        pass\n",
        "\n",
        "    def get_n_moves(self):\n",
        "      return self.n_moves"
      ],
      "metadata": {
        "id": "Pda3rQrco4uH"
      },
      "execution_count": 11,
      "outputs": []
    },
    {
      "cell_type": "markdown",
      "source": [
        "# Test the environment"
      ],
      "metadata": {
        "id": "sAAGBRrZ-rF5"
      }
    },
    {
      "cell_type": "code",
      "source": [
        "env = RubikCubeEnv()\n",
        "check_env(env)\n",
        "env.reset()"
      ],
      "metadata": {
        "id": "wkNUBEmBtyeC",
        "colab": {
          "base_uri": "https://localhost:8080/"
        },
        "outputId": "0af63d2d-fc4e-4af9-c622-aff896b5e1b6"
      },
      "execution_count": 12,
      "outputs": [
        {
          "output_type": "execute_result",
          "data": {
            "text/plain": [
              "array([1, 0, 0, 0, 0, 0, 0, 0, 0, 0, 0, 1, 0, 0, 0, 0, 0, 1, 0, 0, 1, 0,\n",
              "       0, 0, 0, 0, 0, 0, 0, 1, 0, 0, 0, 0, 1, 0, 0, 1, 0, 0, 0, 0, 0, 0,\n",
              "       0, 0, 0, 1, 0, 0, 0, 1, 0, 0, 0, 0, 0, 0, 1, 0, 0, 0, 0, 1, 0, 0,\n",
              "       0, 1, 0, 0, 0, 0, 1, 0, 0, 0, 0, 0, 1, 0, 0, 0, 0, 0, 0, 0, 0, 1,\n",
              "       0, 0, 0, 0, 0, 1, 0, 0, 0, 0, 1, 0, 0, 0, 1, 0, 0, 0, 0, 0, 1, 0,\n",
              "       0, 0, 0, 0, 0, 1, 0, 0, 0, 0, 0, 0, 0, 1, 0, 0, 0, 0, 1, 0, 0, 0,\n",
              "       0, 1, 0, 0, 0, 0, 0, 0, 1, 0, 0, 0, 1, 0, 0, 0, 0, 0, 0, 0, 0, 0,\n",
              "       1, 0, 0, 0, 0, 1, 0, 0, 0, 1, 0, 0, 0, 0, 0, 0, 1, 0, 0, 0, 1, 0,\n",
              "       0, 0, 0, 0, 0, 0, 1, 0, 0, 0, 0, 1, 0, 0, 0, 0, 0, 0, 0, 0, 1, 0,\n",
              "       0, 0, 0, 0, 1, 0, 0, 0, 0, 1, 0, 0, 0, 0, 1, 0, 0, 0, 0, 0, 1, 0,\n",
              "       0, 0, 0, 0, 0, 0, 1, 0, 0, 0, 0, 0, 1, 0, 0, 1, 0, 0, 0, 0, 0, 0,\n",
              "       0, 0, 1, 0, 0, 0, 0, 0, 0, 1, 0, 0, 0, 0, 0, 1, 0, 0, 0, 1, 0, 0,\n",
              "       0, 0, 0, 0, 0, 1, 1, 0, 0, 0, 0, 0, 0, 1, 0, 0, 0, 0, 0, 0, 0, 0,\n",
              "       0, 1], dtype=int32)"
            ]
          },
          "metadata": {},
          "execution_count": 12
        }
      ]
    },
    {
      "cell_type": "markdown",
      "source": [
        "# Create the model"
      ],
      "metadata": {
        "id": "1PtF2zzu-vrV"
      }
    },
    {
      "cell_type": "code",
      "source": [
        "algo = 'QRDQN-1024-1024-128-v4'\n",
        "models_dir = f'drive/MyDrive/models/{algo}'\n",
        "logdir = 'drive/MyDrive/models/logs'"
      ],
      "metadata": {
        "id": "EKXZgnVb57P_"
      },
      "execution_count": 13,
      "outputs": []
    },
    {
      "cell_type": "code",
      "source": [
        "#model = QRDQN('MlpPolicy', env, verbose=1, tensorboard_log=logdir, policy_kwargs={'net_arch' : [1024, 1024, 128]})\n",
        "#model = DQN('MlpPolicy', env, verbose=1, tensorboard_log=logdir, policy_kwargs={'net_arch' : [512, 512]})\n",
        "#model = PPO('MlpPolicy', env, verbose=1, tensorboard_log=logdir)\n",
        "#model = PPO.load('drive/MyDrive/models/PPO/6000000', env=env)\n",
        "model = DQN.load('drive/MyDrive/models/DQN512/4000000', env=env)\n",
        "#model = QRDQN.load('drive/MyDrive/models/QRDQN-512-512-512-v2/2000000', env=env)\n",
        "#model = QRDQN.load('drive/MyDrive/models/QRDQN-1024-1024-128-v4/6000000', env=env)"
      ],
      "metadata": {
        "id": "PbXRRXgZt_cN",
        "colab": {
          "base_uri": "https://localhost:8080/"
        },
        "outputId": "4915b1c5-0ea6-4528-b780-f8f3cd48b373"
      },
      "execution_count": 14,
      "outputs": [
        {
          "output_type": "stream",
          "name": "stdout",
          "text": [
            "Wrapping the env with a `Monitor` wrapper\n",
            "Wrapping the env in a DummyVecEnv.\n"
          ]
        }
      ]
    },
    {
      "cell_type": "code",
      "source": [
        "TIMESTEPS = 1000000\n",
        "for i in range(1, 20):\n",
        "    model.learn(total_timesteps=TIMESTEPS, reset_num_timesteps=False, tb_log_name=algo)\n",
        "    model.save(f'{models_dir}/{TIMESTEPS*i}')"
      ],
      "metadata": {
        "id": "pHuJvRVVVRe1"
      },
      "execution_count": null,
      "outputs": []
    },
    {
      "cell_type": "code",
      "source": [
        "obs = env.reset()\n",
        "env.render()\n",
        "done = False\n",
        "while not done:\n",
        "  action, _states = model.predict(obs)\n",
        "  obs, rewards, done, info = env.step(action)\n",
        "  counter = env.get_n_moves()\n",
        "  if counter % 100 == 1:\n",
        "    print('---------------------')\n",
        "    env.render()\n",
        "    print(f'counter: {counter}')\n",
        "    print(f'reward: {rewards}')"
      ],
      "metadata": {
        "id": "BPvQ5o-rymGh",
        "colab": {
          "base_uri": "https://localhost:8080/"
        },
        "outputId": "f2a1ad28-f228-454e-93b4-2618e6e16154"
      },
      "execution_count": 22,
      "outputs": [
        {
          "output_type": "stream",
          "name": "stdout",
          "text": [
            "    BRW\n",
            "    OOO\n",
            "    WWW\n",
            "GWR GGG OBY RBO\n",
            "GYY OWR GGY RBO\n",
            "RYY OWR GGO YYY\n",
            "    WRB\n",
            "    WRB\n",
            "    BBB\n",
            "---------------------\n",
            "    YYO\n",
            "    OOO\n",
            "    WWW\n",
            "WWR GGG OBB YRR\n",
            "RYY OWR GGB YBB\n",
            "BYY OWR GGB YOO\n",
            "    WRB\n",
            "    WRB\n",
            "    GGR\n",
            "counter: 1\n",
            "reward: 3.61e-05\n",
            "---------------------\n",
            "    WOW\n",
            "    WOW\n",
            "    BRB\n",
            "YYG RWR YGG OBO\n",
            "YYG RWR YGG OBO\n",
            "YYG RWR YGG OBO\n",
            "    WOW\n",
            "    BRB\n",
            "    BRB\n",
            "counter: 101\n",
            "reward: 4.84e-05\n",
            "---------------------\n",
            "    OOR\n",
            "    OOR\n",
            "    OOR\n",
            "YYY WWB GGG WBB\n",
            "YYY WWB GGG WBB\n",
            "YYY WWB GGG WBB\n",
            "    RRO\n",
            "    RRO\n",
            "    RRO\n",
            "counter: 201\n",
            "reward: 0.0001764\n",
            "---------------------\n",
            "    OOR\n",
            "    OOR\n",
            "    OOR\n",
            "YYY WWB GGG WBB\n",
            "YYY WWB GGG WBB\n",
            "YYY WWB GGG WBB\n",
            "    RRO\n",
            "    RRO\n",
            "    RRO\n",
            "counter: 301\n",
            "reward: 0.0001764\n",
            "---------------------\n",
            "    RRY\n",
            "    OOY\n",
            "    OOY\n",
            "WBB YYR WWW OGG\n",
            "YYR WWW OGG WBB\n",
            "YYO BBB RGG WBB\n",
            "    GGG\n",
            "    RRO\n",
            "    RRO\n",
            "counter: 401\n",
            "reward: 5.29e-05\n",
            "---------------------\n",
            "    OOR\n",
            "    OOR\n",
            "    OOR\n",
            "YYY WWB GGG WBB\n",
            "YYY WWB GGG WBB\n",
            "YYY WWB GGG WBB\n",
            "    RRO\n",
            "    RRO\n",
            "    RRO\n",
            "counter: 501\n",
            "reward: 0.0001764\n",
            "---------------------\n",
            "    OOR\n",
            "    OOR\n",
            "    OOR\n",
            "YYY WWB GGG WBB\n",
            "YYY WWB GGG WBB\n",
            "YYY WWB GGG WBB\n",
            "    RRO\n",
            "    RRO\n",
            "    RRO\n",
            "counter: 601\n",
            "reward: 0.0001764\n",
            "---------------------\n",
            "    GGB\n",
            "    OOR\n",
            "    RRR\n",
            "RWB GWW YGR YWW\n",
            "OYY BWW YGR YBB\n",
            "OYY BGG WBO BBY\n",
            "    OOO\n",
            "    ORR\n",
            "    WGG\n",
            "counter: 701\n",
            "reward: 3.24e-05\n",
            "---------------------\n",
            "    RRO\n",
            "    OOO\n",
            "    RRO\n",
            "YBY BWW GGG BYW\n",
            "GYG BWW YGY BBW\n",
            "GYG BWW YGY BBW\n",
            "    ROO\n",
            "    ORR\n",
            "    RRO\n",
            "counter: 801\n",
            "reward: 9e-05\n",
            "---------------------\n",
            "    RRR\n",
            "    OOR\n",
            "    ROR\n",
            "YGY BWB GGG WYW\n",
            "YYY BWB GGG WBW\n",
            "YYY BWB GBG WBW\n",
            "    ORO\n",
            "    ORO\n",
            "    ORO\n",
            "counter: 901\n",
            "reward: 7.29e-05\n"
          ]
        }
      ]
    },
    {
      "cell_type": "code",
      "source": [],
      "metadata": {
        "id": "CXhvoscUzLH_"
      },
      "execution_count": null,
      "outputs": []
    }
  ]
}